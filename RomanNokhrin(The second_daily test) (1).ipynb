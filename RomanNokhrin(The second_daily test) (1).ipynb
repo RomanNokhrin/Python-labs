{
 "cells": [
  {
   "cell_type": "markdown",
   "metadata": {},
   "source": [
    "### 1、please import pandas "
   ]
  },
  {
   "cell_type": "code",
   "execution_count": 13,
   "metadata": {},
   "outputs": [],
   "source": [
    "import pandas as pd"
   ]
  },
  {
   "cell_type": "markdown",
   "metadata": {},
   "source": [
    "### 2、please read the Breast_cancer_data_for_ML.csv file and saved as DataFrame and name it as 'data'."
   ]
  },
  {
   "cell_type": "code",
   "execution_count": 14,
   "metadata": {},
   "outputs": [],
   "source": [
    "data = pd.read_csv(\"Breast_cancer_data_for_ML.csv\", index_col = 'id')"
   ]
  },
  {
   "cell_type": "markdown",
   "metadata": {},
   "source": [
    "### 3、please drop the 'Unnamed: 32' column"
   ]
  },
  {
   "cell_type": "code",
   "execution_count": 15,
   "metadata": {},
   "outputs": [
    {
     "name": "stdout",
     "output_type": "stream",
     "text": [
      "         diagnosis  radius_mean  texture_mean  perimeter_mean  area_mean  \\\n",
      "id                                                                         \n",
      "842302           M        17.99         10.38          122.80     1001.0   \n",
      "842517           M        20.57         17.77          132.90     1326.0   \n",
      "84300903         M        19.69         21.25          130.00     1203.0   \n",
      "84348301         M        11.42         20.38           77.58      386.1   \n",
      "84358402         M        20.29         14.34          135.10     1297.0   \n",
      "...            ...          ...           ...             ...        ...   \n",
      "926424           M        21.56         22.39          142.00     1479.0   \n",
      "926682           M        20.13         28.25          131.20     1261.0   \n",
      "926954           M        16.60         28.08          108.30      858.1   \n",
      "927241           M        20.60         29.33          140.10     1265.0   \n",
      "92751            B         7.76         24.54           47.92      181.0   \n",
      "\n",
      "          smoothness_mean  compactness_mean  concavity_mean  \\\n",
      "id                                                            \n",
      "842302            0.11840           0.27760         0.30010   \n",
      "842517            0.08474           0.07864         0.08690   \n",
      "84300903          0.10960           0.15990         0.19740   \n",
      "84348301          0.14250           0.28390         0.24140   \n",
      "84358402          0.10030           0.13280         0.19800   \n",
      "...                   ...               ...             ...   \n",
      "926424            0.11100           0.11590         0.24390   \n",
      "926682            0.09780           0.10340         0.14400   \n",
      "926954            0.08455           0.10230         0.09251   \n",
      "927241            0.11780           0.27700         0.35140   \n",
      "92751             0.05263           0.04362         0.00000   \n",
      "\n",
      "          concave points_mean  symmetry_mean  ...  radius_worst  \\\n",
      "id                                            ...                 \n",
      "842302                0.14710         0.2419  ...        25.380   \n",
      "842517                0.07017         0.1812  ...        24.990   \n",
      "84300903              0.12790         0.2069  ...        23.570   \n",
      "84348301              0.10520         0.2597  ...        14.910   \n",
      "84358402              0.10430         0.1809  ...        22.540   \n",
      "...                       ...            ...  ...           ...   \n",
      "926424                0.13890         0.1726  ...        25.450   \n",
      "926682                0.09791         0.1752  ...        23.690   \n",
      "926954                0.05302         0.1590  ...        18.980   \n",
      "927241                0.15200         0.2397  ...        25.740   \n",
      "92751                 0.00000         0.1587  ...         9.456   \n",
      "\n",
      "          texture_worst  perimeter_worst  area_worst  smoothness_worst  \\\n",
      "id                                                                       \n",
      "842302            17.33           184.60      2019.0           0.16220   \n",
      "842517            23.41           158.80      1956.0           0.12380   \n",
      "84300903          25.53           152.50      1709.0           0.14440   \n",
      "84348301          26.50            98.87       567.7           0.20980   \n",
      "84358402          16.67           152.20      1575.0           0.13740   \n",
      "...                 ...              ...         ...               ...   \n",
      "926424            26.40           166.10      2027.0           0.14100   \n",
      "926682            38.25           155.00      1731.0           0.11660   \n",
      "926954            34.12           126.70      1124.0           0.11390   \n",
      "927241            39.42           184.60      1821.0           0.16500   \n",
      "92751             30.37            59.16       268.6           0.08996   \n",
      "\n",
      "          compactness_worst  concavity_worst  concave points_worst  \\\n",
      "id                                                                   \n",
      "842302              0.66560           0.7119                0.2654   \n",
      "842517              0.18660           0.2416                0.1860   \n",
      "84300903            0.42450           0.4504                0.2430   \n",
      "84348301            0.86630           0.6869                0.2575   \n",
      "84358402            0.20500           0.4000                0.1625   \n",
      "...                     ...              ...                   ...   \n",
      "926424              0.21130           0.4107                0.2216   \n",
      "926682              0.19220           0.3215                0.1628   \n",
      "926954              0.30940           0.3403                0.1418   \n",
      "927241              0.86810           0.9387                0.2650   \n",
      "92751               0.06444           0.0000                0.0000   \n",
      "\n",
      "          symmetry_worst  fractal_dimension_worst  \n",
      "id                                                 \n",
      "842302            0.4601                  0.11890  \n",
      "842517            0.2750                  0.08902  \n",
      "84300903          0.3613                  0.08758  \n",
      "84348301          0.6638                  0.17300  \n",
      "84358402          0.2364                  0.07678  \n",
      "...                  ...                      ...  \n",
      "926424            0.2060                  0.07115  \n",
      "926682            0.2572                  0.06637  \n",
      "926954            0.2218                  0.07820  \n",
      "927241            0.4087                  0.12400  \n",
      "92751             0.2871                  0.07039  \n",
      "\n",
      "[569 rows x 31 columns]\n"
     ]
    }
   ],
   "source": [
    "data.drop('Unnamed: 32',axis = 1 ,inplace = True)\n",
    "print(data)"
   ]
  },
  {
   "cell_type": "markdown",
   "metadata": {},
   "source": [
    "### 4、please to use 1,0 instead of 'M' and 'B'"
   ]
  },
  {
   "cell_type": "code",
   "execution_count": 16,
   "metadata": {},
   "outputs": [
    {
     "name": "stdout",
     "output_type": "stream",
     "text": [
      "          diagnosis  radius_mean  texture_mean  perimeter_mean  area_mean  \\\n",
      "id                                                                          \n",
      "842302            1        17.99         10.38          122.80     1001.0   \n",
      "842517            1        20.57         17.77          132.90     1326.0   \n",
      "84300903          1        19.69         21.25          130.00     1203.0   \n",
      "84348301          1        11.42         20.38           77.58      386.1   \n",
      "84358402          1        20.29         14.34          135.10     1297.0   \n",
      "...             ...          ...           ...             ...        ...   \n",
      "926424            1        21.56         22.39          142.00     1479.0   \n",
      "926682            1        20.13         28.25          131.20     1261.0   \n",
      "926954            1        16.60         28.08          108.30      858.1   \n",
      "927241            1        20.60         29.33          140.10     1265.0   \n",
      "92751             0         7.76         24.54           47.92      181.0   \n",
      "\n",
      "          smoothness_mean  compactness_mean  concavity_mean  \\\n",
      "id                                                            \n",
      "842302            0.11840           0.27760         0.30010   \n",
      "842517            0.08474           0.07864         0.08690   \n",
      "84300903          0.10960           0.15990         0.19740   \n",
      "84348301          0.14250           0.28390         0.24140   \n",
      "84358402          0.10030           0.13280         0.19800   \n",
      "...                   ...               ...             ...   \n",
      "926424            0.11100           0.11590         0.24390   \n",
      "926682            0.09780           0.10340         0.14400   \n",
      "926954            0.08455           0.10230         0.09251   \n",
      "927241            0.11780           0.27700         0.35140   \n",
      "92751             0.05263           0.04362         0.00000   \n",
      "\n",
      "          concave points_mean  symmetry_mean  ...  radius_worst  \\\n",
      "id                                            ...                 \n",
      "842302                0.14710         0.2419  ...        25.380   \n",
      "842517                0.07017         0.1812  ...        24.990   \n",
      "84300903              0.12790         0.2069  ...        23.570   \n",
      "84348301              0.10520         0.2597  ...        14.910   \n",
      "84358402              0.10430         0.1809  ...        22.540   \n",
      "...                       ...            ...  ...           ...   \n",
      "926424                0.13890         0.1726  ...        25.450   \n",
      "926682                0.09791         0.1752  ...        23.690   \n",
      "926954                0.05302         0.1590  ...        18.980   \n",
      "927241                0.15200         0.2397  ...        25.740   \n",
      "92751                 0.00000         0.1587  ...         9.456   \n",
      "\n",
      "          texture_worst  perimeter_worst  area_worst  smoothness_worst  \\\n",
      "id                                                                       \n",
      "842302            17.33           184.60      2019.0           0.16220   \n",
      "842517            23.41           158.80      1956.0           0.12380   \n",
      "84300903          25.53           152.50      1709.0           0.14440   \n",
      "84348301          26.50            98.87       567.7           0.20980   \n",
      "84358402          16.67           152.20      1575.0           0.13740   \n",
      "...                 ...              ...         ...               ...   \n",
      "926424            26.40           166.10      2027.0           0.14100   \n",
      "926682            38.25           155.00      1731.0           0.11660   \n",
      "926954            34.12           126.70      1124.0           0.11390   \n",
      "927241            39.42           184.60      1821.0           0.16500   \n",
      "92751             30.37            59.16       268.6           0.08996   \n",
      "\n",
      "          compactness_worst  concavity_worst  concave points_worst  \\\n",
      "id                                                                   \n",
      "842302              0.66560           0.7119                0.2654   \n",
      "842517              0.18660           0.2416                0.1860   \n",
      "84300903            0.42450           0.4504                0.2430   \n",
      "84348301            0.86630           0.6869                0.2575   \n",
      "84358402            0.20500           0.4000                0.1625   \n",
      "...                     ...              ...                   ...   \n",
      "926424              0.21130           0.4107                0.2216   \n",
      "926682              0.19220           0.3215                0.1628   \n",
      "926954              0.30940           0.3403                0.1418   \n",
      "927241              0.86810           0.9387                0.2650   \n",
      "92751               0.06444           0.0000                0.0000   \n",
      "\n",
      "          symmetry_worst  fractal_dimension_worst  \n",
      "id                                                 \n",
      "842302            0.4601                  0.11890  \n",
      "842517            0.2750                  0.08902  \n",
      "84300903          0.3613                  0.08758  \n",
      "84348301          0.6638                  0.17300  \n",
      "84358402          0.2364                  0.07678  \n",
      "...                  ...                      ...  \n",
      "926424            0.2060                  0.07115  \n",
      "926682            0.2572                  0.06637  \n",
      "926954            0.2218                  0.07820  \n",
      "927241            0.4087                  0.12400  \n",
      "92751             0.2871                  0.07039  \n",
      "\n",
      "[569 rows x 31 columns]\n"
     ]
    }
   ],
   "source": [
    "data['diagnosis'] = data['diagnosis'].map({'M': 1, 'B':0})\n",
    "print(data)"
   ]
  },
  {
   "cell_type": "markdown",
   "metadata": {},
   "source": [
    "### 5、please split the data into training data and test data"
   ]
  },
  {
   "cell_type": "code",
   "execution_count": 23,
   "metadata": {},
   "outputs": [
    {
     "name": "stdout",
     "output_type": "stream",
     "text": [
      "          radius_mean  texture_mean  perimeter_mean  area_mean  \\\n",
      "id                                                               \n",
      "855133          14.99         25.20           95.54      698.8   \n",
      "9112594         13.00         25.13           82.61      520.2   \n",
      "915664          14.81         14.70           94.66      680.7   \n",
      "84501001        12.46         24.04           83.97      475.9   \n",
      "89812           23.51         24.27          155.10     1747.0   \n",
      "...               ...           ...             ...        ...   \n",
      "893988          11.54         10.72           73.73      409.1   \n",
      "905189          16.14         14.86          104.30      800.0   \n",
      "90317302        10.26         12.22           65.75      321.6   \n",
      "869224          12.90         15.92           83.74      512.2   \n",
      "883539          12.42         15.04           78.61      476.5   \n",
      "\n",
      "          smoothness_mean  compactness_mean  concavity_mean  \\\n",
      "id                                                            \n",
      "855133            0.09387           0.05131         0.02398   \n",
      "9112594           0.08369           0.05073         0.01206   \n",
      "915664            0.08472           0.05016         0.03416   \n",
      "84501001          0.11860           0.23960         0.22730   \n",
      "89812             0.10690           0.12830         0.23080   \n",
      "...                   ...               ...             ...   \n",
      "893988            0.08597           0.05969         0.01367   \n",
      "905189            0.09495           0.08501         0.05500   \n",
      "90317302          0.09996           0.07542         0.01923   \n",
      "869224            0.08677           0.09509         0.04894   \n",
      "883539            0.07926           0.03393         0.01053   \n",
      "\n",
      "          concave points_mean  symmetry_mean  fractal_dimension_mean  ...  \\\n",
      "id                                                                    ...   \n",
      "855133               0.028990         0.1565                 0.05504  ...   \n",
      "9112594              0.017620         0.1667                 0.05449  ...   \n",
      "915664               0.025410         0.1659                 0.05348  ...   \n",
      "84501001             0.085430         0.2030                 0.08243  ...   \n",
      "89812                0.141000         0.1797                 0.05506  ...   \n",
      "...                       ...            ...                     ...  ...   \n",
      "893988               0.008907         0.1833                 0.06100  ...   \n",
      "905189               0.045280         0.1735                 0.05875  ...   \n",
      "90317302             0.019680         0.1800                 0.06569  ...   \n",
      "869224               0.030880         0.1778                 0.06235  ...   \n",
      "883539               0.011080         0.1546                 0.05754  ...   \n",
      "\n",
      "          radius_worst  texture_worst  perimeter_worst  area_worst  \\\n",
      "id                                                                   \n",
      "855133           14.99          25.20            95.54       698.8   \n",
      "9112594          14.34          31.88            91.06       628.5   \n",
      "915664           15.61          17.58           101.70       760.2   \n",
      "84501001         15.09          40.68            97.65       711.4   \n",
      "89812            30.67          30.73           202.40      2906.0   \n",
      "...                ...            ...              ...         ...   \n",
      "893988           12.34          12.87            81.23       467.8   \n",
      "905189           17.71          19.58           115.90       947.9   \n",
      "90317302         11.38          15.65            73.23       394.5   \n",
      "869224           14.48          21.82            97.17       643.8   \n",
      "883539           13.20          20.37            83.85       543.4   \n",
      "\n",
      "          smoothness_worst  compactness_worst  concavity_worst  \\\n",
      "id                                                               \n",
      "855133             0.09387            0.05131          0.02398   \n",
      "9112594            0.12180            0.10930          0.04462   \n",
      "915664             0.11390            0.10110          0.11010   \n",
      "84501001           0.18530            1.05800          1.10500   \n",
      "89812              0.15150            0.26780          0.48190   \n",
      "...                    ...                ...              ...   \n",
      "893988             0.10920            0.16260          0.08324   \n",
      "905189             0.12060            0.17220          0.23100   \n",
      "90317302           0.13430            0.16500          0.08615   \n",
      "869224             0.13120            0.25480          0.20900   \n",
      "883539             0.10370            0.07776          0.06243   \n",
      "\n",
      "          concave points_worst  symmetry_worst  fractal_dimension_worst  \n",
      "id                                                                       \n",
      "855133                 0.02899          0.1565                  0.05504  \n",
      "9112594                0.05921          0.2306                  0.06291  \n",
      "915664                 0.07955          0.2334                  0.06142  \n",
      "84501001               0.22100          0.4366                  0.20750  \n",
      "89812                  0.20890          0.2593                  0.07738  \n",
      "...                        ...             ...                      ...  \n",
      "893988                 0.04715          0.3390                  0.07434  \n",
      "905189                 0.11290          0.2778                  0.07012  \n",
      "90317302               0.06696          0.2937                  0.07722  \n",
      "869224                 0.10120          0.3549                  0.08118  \n",
      "883539                 0.04052          0.2901                  0.06783  \n",
      "\n",
      "[398 rows x 30 columns]\n"
     ]
    }
   ],
   "source": [
    "from sklearn.model_selection import train_test_split\n",
    "\n",
    "#Scaler should be trained on train set only to prevent information about future from leaking.\n",
    "\n",
    "y = data['diagnosis']\n",
    "X = data.drop(['diagnosis'], axis=1)\n",
    "\n",
    "X_train, X_test, y_train, y_test = train_test_split(X, y, test_size=0.3, random_state=17)\n",
    "print (X_train)"
   ]
  },
  {
   "cell_type": "markdown",
   "metadata": {},
   "source": [
    "### 6、please do data preprocesing "
   ]
  },
  {
   "cell_type": "code",
   "execution_count": 25,
   "metadata": {},
   "outputs": [
    {
     "name": "stdout",
     "output_type": "stream",
     "text": [
      "[[ 0.2845498   1.37367264  0.18708795 ... -1.3093337  -2.17840084\n",
      "  -1.5730348 ]\n",
      " [-0.30543565  1.35781395 -0.37300698 ... -0.83887312 -0.96728976\n",
      "  -1.14619932]\n",
      " [ 0.23118428 -1.0051316   0.14896857 ... -0.52222295 -0.92152577\n",
      "  -1.22701061]\n",
      " ...\n",
      " [-1.11777744 -1.56698251 -1.10333957 ... -0.71822225  0.06403426\n",
      "  -0.37008551]\n",
      " [-0.33508316 -0.7287372  -0.32405823 ... -0.18517889  1.06430414\n",
      "  -0.15531188]\n",
      " [-0.47739121 -0.92810365 -0.54627687 ... -1.12983633  0.00519485\n",
      "  -0.87935935]]\n"
     ]
    }
   ],
   "source": [
    "from sklearn.preprocessing import StandardScaler\n",
    "X_train_scaled = StandardScaler().fit_transform(X_train)\n",
    "X_test_scaled = StandardScaler().fit_transform(X_test)\n",
    "print(X_train_scaled)"
   ]
  },
  {
   "cell_type": "markdown",
   "metadata": {},
   "source": [
    "### 7、please use SVM to do classification"
   ]
  },
  {
   "cell_type": "code",
   "execution_count": 61,
   "metadata": {},
   "outputs": [
    {
     "data": {
      "text/plain": [
       "SVC(C=1.0, cache_size=200, class_weight=None, coef0=0.0,\n",
       "    decision_function_shape='ovr', degree=3, gamma='auto_deprecated',\n",
       "    kernel='rbf', max_iter=-1, probability=False, random_state=None,\n",
       "    shrinking=True, tol=0.001, verbose=False)"
      ]
     },
     "execution_count": 61,
     "metadata": {},
     "output_type": "execute_result"
    }
   ],
   "source": [
    "from sklearn.svm import SVC\n",
    "name_model=SVC()\n",
    "from sklearn.svm import SVC\n",
    "SVM_model = SVC(\n",
    "    C=1.0,\n",
    "    kernel='rbf',\n",
    "    degree=3,\n",
    "    gamma='auto_deprecated',\n",
    "    coef0=0.0,\n",
    "    shrinking=True,\n",
    "    probability=False,\n",
    "    tol=0.001,\n",
    "    cache_size=200,\n",
    "    class_weight=None,\n",
    "    verbose=False,\n",
    "    max_iter=-1,\n",
    "    decision_function_shape='ovr',\n",
    "    random_state=None,)\n",
    "SVM_model.fit(X_train_scaled,y_train)"
   ]
  },
  {
   "cell_type": "code",
   "execution_count": 62,
   "metadata": {},
   "outputs": [
    {
     "name": "stdout",
     "output_type": "stream",
     "text": [
      "Accuracy Score :  0.9649122807017544\n",
      "Recall Score (how much of malignant tumours were predicted correctly) :  0.9016393442622951\n",
      "Precision Score (how much of tumours, which were predicted as 'malignant', were actually 'malignant'):  1.0\n"
     ]
    }
   ],
   "source": [
    "from sklearn.metrics import accuracy_score, recall_score, precision_score\n",
    "svm_pred = SVM_model.predict(X_test_scaled)\n",
    "print (\"Accuracy Score : \",accuracy_score(y_test, svm_pred) )\n",
    "print (\"Recall Score (how much of malignant tumours were predicted correctly) : \",recall_score(y_test, svm_pred))\n",
    "print (\"Precision Score (how much of tumours, which were predicted as 'malignant', were actually 'malignant'): \",precision_score(y_test, svm_pred))"
   ]
  },
  {
   "cell_type": "code",
   "execution_count": null,
   "metadata": {},
   "outputs": [],
   "source": []
  },
  {
   "cell_type": "code",
   "execution_count": null,
   "metadata": {},
   "outputs": [],
   "source": []
  }
 ],
 "metadata": {
  "kernelspec": {
   "display_name": "Python 3",
   "language": "python",
   "name": "python3"
  },
  "language_info": {
   "codemirror_mode": {
    "name": "ipython",
    "version": 3
   },
   "file_extension": ".py",
   "mimetype": "text/x-python",
   "name": "python",
   "nbconvert_exporter": "python",
   "pygments_lexer": "ipython3",
   "version": "3.7.4"
  }
 },
 "nbformat": 4,
 "nbformat_minor": 2
}
